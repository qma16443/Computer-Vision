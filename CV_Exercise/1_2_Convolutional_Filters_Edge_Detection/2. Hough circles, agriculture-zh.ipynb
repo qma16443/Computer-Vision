{
 "cells": [
  {
   "cell_type": "markdown",
   "metadata": {},
   "source": [
    "## Hough Circle检测"
   ]
  },
  {
   "cell_type": "code",
   "execution_count": null,
   "metadata": {},
   "outputs": [],
   "source": [
    "import numpy as np\n",
    "import matplotlib.pyplot as plt\n",
    "import cv2\n",
    "\n",
    "%matplotlib inline"
   ]
  },
  {
   "cell_type": "code",
   "execution_count": null,
   "metadata": {},
   "outputs": [],
   "source": [
    "# Read in the image\n",
    "image = cv2.imread('images/round_farms.jpg')\n",
    "\n",
    "# Change color to RGB (from BGR)\n",
    "image = cv2.cvtColor(image, cv2.COLOR_BGR2RGB)\n",
    "\n",
    "plt.imshow(image)"
   ]
  },
  {
   "cell_type": "code",
   "execution_count": null,
   "metadata": {},
   "outputs": [],
   "source": [
    "# Gray and blur\n",
    "gray = cv2.cvtColor(image,cv2.COLOR_BGR2GRAY)\n",
    "\n",
    "gray_blur = cv2.GaussianBlur(gray, (3, 3), 0)\n",
    "\n",
    "plt.imshow(gray_blur, cmap='gray')\n"
   ]
  },
  {
   "cell_type": "markdown",
   "metadata": {},
   "source": [
    "### HoughCircles函数\n",
    "\n",
    "`HoughCircles` 函数会接收下列变量作为其参数：\n",
    "*  一个输入图像，检测方法（Hough梯度），检测与图像之间的分辨率因子（1），\n",
    "* minDist - 圆与圆之间的最小距离\n",
    "* param1 - 执行Canny边缘检测的较大值\n",
    "* param2 - 用于圆检测的阈值，较小值 - >将检测到更多圆\n",
    "* min / max Radius - 检测到的圆的最小半径与最大半径\n",
    "\n",
    "你应该更改的变量将是最后两个：检测到的圆的最小半径与最大半径。 看一下上面的图像，估算圆的平均直径的像素数，并使用此估算值为min / max参数提供值。 你还可以看一看如果更改minDist，会发生什么变化。"
   ]
  },
  {
   "cell_type": "code",
   "execution_count": null,
   "metadata": {},
   "outputs": [],
   "source": [
    "# for drawing circles on\n",
    "circles_im = np.copy(image)\n",
    "\n",
    "## TODO: use HoughCircles to detect circles\n",
    "# right now there are too many, large circles being detected\n",
    "# try changing the value of maxRadius, minRadius, and minDist\n",
    "circles = cv2.HoughCircles(gray_blur, cv2.HOUGH_GRADIENT, 1, \n",
    "                           minDist=45,\n",
    "                           param1=70,\n",
    "                           param2=11,\n",
    "                           minRadius=20,\n",
    "                           maxRadius=40)\n",
    "\n",
    "# convert circles into expected type\n",
    "circles = np.uint16(np.around(circles))\n",
    "# draw each one\n",
    "for i in circles[0,:]:\n",
    "    # draw the outer circle\n",
    "    cv2.circle(circles_im,(i[0],i[1]),i[2],(0,255,0),2)\n",
    "    # draw the center of the circle\n",
    "    cv2.circle(circles_im,(i[0],i[1]),2,(0,0,255),3)\n",
    "    \n",
    "plt.imshow(circles_im)\n",
    "\n",
    "print('Circles shape: ', circles.shape)\n",
    "    "
   ]
  }
 ],
 "metadata": {
  "kernelspec": {
   "display_name": "Python 3",
   "language": "python",
   "name": "python3"
  },
  "language_info": {
   "codemirror_mode": {
    "name": "ipython",
    "version": 3
   },
   "file_extension": ".py",
   "mimetype": "text/x-python",
   "name": "python",
   "nbconvert_exporter": "python",
   "pygments_lexer": "ipython3",
   "version": "3.6.3"
  }
 },
 "nbformat": 4,
 "nbformat_minor": 2
}
